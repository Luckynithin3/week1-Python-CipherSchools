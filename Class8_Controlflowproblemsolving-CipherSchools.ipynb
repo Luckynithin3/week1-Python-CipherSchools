n = 5
for i in range(n):
    for j in range(n):
        print(i, end = " ")
    print()
     
0 0 0 0 0 
1 1 1 1 1 
2 2 2 2 2 
3 3 3 3 3 
4 4 4 4 4 

n = 5
for i in range(n):
  for j in range(n):
    print(i, end = " ")
    print()
     
0 
0 
0 
0 
0 
1 
1 
1 
1 
1 
2 
2 
2 
2 
2 
3 
3 
3 
3 
3 
4 
4 
4 
4 
4 

n = 5
for i in range(n):
    for j in range(n):
        print(n-j, end = " ")
    print()
     
5 4 3 2 1 
5 4 3 2 1 
5 4 3 2 1 
5 4 3 2 1 
5 4 3 2 1 

n = 5
for i in range(n):
    for j in range(n):
        print(n-j-1, end = " ")
    print()
     
4 3 2 1 0 
4 3 2 1 0 
4 3 2 1 0 
4 3 2 1 0 
4 3 2 1 0 

n = 5
for i in range(n):
    for j in range(n):
        print(j+1, end = " ")
    print()
     
1 2 3 4 5 
1 2 3 4 5 
1 2 3 4 5 
1 2 3 4 5 
1 2 3 4 5 

max(1, 2, 3, 4, 5, 7)
     
7

n = 18
for i in range(n):
    for j in range(n):
        print(max(i+1, j+1, n-i, n-j), end = " ")
    print()

     
18 18 18 18 18 18 18 18 18 18 18 18 18 18 18 18 18 18 
18 17 17 17 17 17 17 17 17 17 17 17 17 17 17 17 17 18 
18 17 16 16 16 16 16 16 16 16 16 16 16 16 16 16 17 18 
18 17 16 15 15 15 15 15 15 15 15 15 15 15 15 16 17 18 
18 17 16 15 14 14 14 14 14 14 14 14 14 14 15 16 17 18 
18 17 16 15 14 13 13 13 13 13 13 13 13 14 15 16 17 18 
18 17 16 15 14 13 12 12 12 12 12 12 13 14 15 16 17 18 
18 17 16 15 14 13 12 11 11 11 11 12 13 14 15 16 17 18 
18 17 16 15 14 13 12 11 10 10 11 12 13 14 15 16 17 18 
18 17 16 15 14 13 12 11 10 10 11 12 13 14 15 16 17 18 
18 17 16 15 14 13 12 11 11 11 11 12 13 14 15 16 17 18 
18 17 16 15 14 13 12 12 12 12 12 12 13 14 15 16 17 18 
18 17 16 15 14 13 13 13 13 13 13 13 13 14 15 16 17 18 
18 17 16 15 14 14 14 14 14 14 14 14 14 14 15 16 17 18 
18 17 16 15 15 15 15 15 15 15 15 15 15 15 15 16 17 18 
18 17 16 16 16 16 16 16 16 16 16 16 16 16 16 16 17 18 
18 17 17 17 17 17 17 17 17 17 17 17 17 17 17 17 17 18 
18 18 18 18 18 18 18 18 18 18 18 18 18 18 18 18 18 18 

n = 5
for i in range(n):
    for j in range(n):
      i, j
      print((i,j), end = " ")
    print()
     
(0, 0) (0, 1) (0, 2) (0, 3) (0, 4) 
(1, 0) (1, 1) (1, 2) (1, 3) (1, 4) 
(2, 0) (2, 1) (2, 2) (2, 3) (2, 4) 
(3, 0) (3, 1) (3, 2) (3, 3) (3, 4) 
(4, 0) (4, 1) (4, 2) (4, 3) (4, 4) 


for i in range(n):
    for j in range(n):
        print(i, end = " ")
    print()
     
0 0 0 0 0 
1 1 1 1 1 
2 2 2 2 2 
3 3 3 3 3 
4 4 4 4 4 

n = 5
for i in range(n):
    for j in range(n):
        print(j, end = " ")
    print()
     
0 1 2 3 4 
0 1 2 3 4 
0 1 2 3 4 
0 1 2 3 4 
0 1 2 3 4 

n = 5
for i in range(n):
    for j in range(n):
        print(max(i,j), end = " ")
    print()
     
0 1 2 3 4 
1 1 2 3 4 
2 2 2 3 4 
3 3 3 3 4 
4 4 4 4 4 

n = 5
for i in range(n):
    for j in range(n):
        print(n-i, end = " ")
    print()
     
5 5 5 5 5 
4 4 4 4 4 
3 3 3 3 3 
2 2 2 2 2 
1 1 1 1 1 

n = 5
for i in range(n):
    for j in range(n):
        print(n-i-1, end = " ")
    print()
     
4 4 4 4 4 
3 3 3 3 3 
2 2 2 2 2 
1 1 1 1 1 
0 0 0 0 0 

n = 5
for i in range(n):
    for j in range(n):
        print(n-j-1, end = " ")
    print()
     
4 3 2 1 0 
4 3 2 1 0 
4 3 2 1 0 
4 3 2 1 0 
4 3 2 1 0 

n = 5
for i in range(n):
    for j in range(n):
        print(max(n-j-1, n-i-1), end = " ")
    print()
     
4 4 4 4 4 
4 3 3 3 3 
4 3 2 2 2 
4 3 2 1 1 
4 3 2 1 0 

n = 5
for i in range(n):
    for j in range(n):
        print(
            max(max(i+1, j+1),max(n-j, n-i)
        ), end = " ")
    print()
     
5 5 5 5 5 
5 4 4 4 5 
5 4 3 4 5 
5 4 4 4 5 
5 5 5 5 5 

sum([1, 2, 3, 4, 5, 5, 6, 7, 8, 9])
     
50
