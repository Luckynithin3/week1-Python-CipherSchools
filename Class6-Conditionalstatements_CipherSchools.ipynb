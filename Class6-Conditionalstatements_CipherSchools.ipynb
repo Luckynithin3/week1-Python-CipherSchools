if (true) {
    
    
}
     

a=True
if True
     

# askldjf
    # asdf
    # alksdjf
# asdf    
     

#1 indent = 2 spaces, 4 spaces, tab, 8 spaces
     

a = False

if a:
  print("the value is true")
print("end")
     
end

a = True

if a:
  print("the value is true")
print("end")
     
the value is true
end

a = True

if a:
  print("this value is true")
else:
  print("this is false")
     
this value is true

a = 5

if a == 3:
  print("the value is 3")
elif a== 5:
  print("this value is 5")
     
this value is 5

(
    int a = 1
)
cout << a;
     

a = 5

if a == 3:
  print("this value is 3")
elif a == 5:
  print("this value is 5")
else:
  print("this value is not 3 or 5")
     
this value is 5


x: int (-inf, inf)
G -> x

a = x < 0
b = x == 0
c = x > 0

a int b = b int c = a int c = phi

a u b u c := G

#conditions are mutually exclusive

     

#Whats not cool with this approach?
if x < 0:
  sign = -1
if x == 0:
  sign = 0
if x > 0:
  sign = 1
     


q = can profile A access profile B

a = isFriend
b = isBlocked
c = isAdmin
d = isMarkzuckerburg

a b c d q
0 0 0 0 0
0 0 0 1 1
0 0 1 0 1
0 0 1 1 1
0 1 0 0 0 
0 1 0 1 1
0 1 1 0 0
0 1 1 1 1
1 0 0 0 1
1 0 0 1 1
1 0 1 0 1
1 0 1 1 1
1 1 0 0 0
1 1 0 1 1
1 1 1 0 0 
1 1 1 1 1

if ____:
  print("has access")
else:
  print("access denied")
     
