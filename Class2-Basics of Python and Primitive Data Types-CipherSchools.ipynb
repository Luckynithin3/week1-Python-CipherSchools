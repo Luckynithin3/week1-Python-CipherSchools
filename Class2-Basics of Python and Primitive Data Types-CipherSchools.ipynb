a=1
print(a)
     
1

a=200
print(a)
     
200

type(a)
     
int

type(a)
     
int

a=225
print(id(a))
     
11133856

print(hex(id(a)))
     
0xa9e3a0

b=278
     

print(id(b))
     
140653527719184

c=278
     

print(id(c))
     
140653527958512

a=1
print(a)
     
1

a=200
print(a)
     
200

type(a)
     
int

type(a)
     
int

a=225
print(id(a))
     
11133856

print(hex(id(a)))
     
0xa9e3a0

b=278
     

print(id(b))
     
140653527719184

c=278
     

print(id(c))
     
140653527958512
