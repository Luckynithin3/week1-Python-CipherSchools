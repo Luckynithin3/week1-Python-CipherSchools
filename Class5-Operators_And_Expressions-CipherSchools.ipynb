5+5
     
10


     

10-5
     
5

10/3
     
3.3333333333333335

10 // 3
     
3

10 % 3
     
1

2 ** 3
     
8

2*3
     
6

"PJ" + "123" + "KILLS"
     
'PJ123KILLS'

"abc" * 6
     
'abcabcabcabcabcabc'

"Priyanshu" "kumar " "Jha"
     
'Priyanshukumar Jha'

1 ==1
     
True

1 == 3
     
False

1<2
     
True

1>2
     
False

"ab" < "z"  #Lexiography
     
True

"a" < "A"
     
False

True and False
     
False

True or False
     
True

True or 1
     
True

1 and 0
     
0

1 and 5
     
5

True = 2 # we can't assign any value
     
  File "", line 1
    True = 2
            ^
SyntaxError: can't assign to keyword

type(True)
     
bool

isinstance(True, int)
     
True

"" or 2.5
     
2.5

bool("")
     
False

bool((1, 2, 3))
     
True

"" and 0
     
''

112 and ""
     
''

#Short Curcuiting
#a or b = a (if a is truthy)
#a or b = b ( if a is falsy)
#a and b = b (if a is truthy)
#a and b = a (if a is falsy)
     

#Short Curcuiting
#true or b = true
#false or b = b
#true and b = b
#false and b = false
     
