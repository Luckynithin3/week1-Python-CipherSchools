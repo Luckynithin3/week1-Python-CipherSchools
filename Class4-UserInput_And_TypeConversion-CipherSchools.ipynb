#delimeter is on;y\n character
a=input()
     
123

print(a)
     
123

type(a)
     
str

a=15
     

str(a)
     
'15'

int("1234")
     
1234

float("123.4")
     
123.4

a = 65
     

a = 'A'
     
