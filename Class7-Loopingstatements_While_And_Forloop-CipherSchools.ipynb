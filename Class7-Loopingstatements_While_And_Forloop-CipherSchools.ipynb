a = 1
while a < 10:
  print(a)
  a += 1
     
1
2
3
4
5
6
7
8
9

#while battery.notDead():
#   pas
     

iter(object)
     

a = "JHA"
a.__iter__
     

for i in range(1,1000,2):
  print("This is going to be with learning with CipherSchools even with {}".format(i))
     
This is going to be with learning with CipherSchools even with 1
This is going to be with learning with CipherSchools even with 3
This is going to be with learning with CipherSchools even with 5
This is going to be with learning with CipherSchools even with 7
This is going to be with learning with CipherSchools even with 9
This is going to be with learning with CipherSchools even with 11
This is going to be with learning with CipherSchools even with 13
This is going to be with learning with CipherSchools even with 15
This is going to be with learning with CipherSchools even with 17
This is going to be with learning with CipherSchools even with 19
This is going to be with learning with CipherSchools even with 21
This is going to be with learning with CipherSchools even with 23
This is going to be with learning with CipherSchools even with 25
This is going to be with learning with CipherSchools even with 27
This is going to be with learning with CipherSchools even with 29
This is going to be with learning with CipherSchools even with 31
This is going to be with learning with CipherSchools even with 33
This is going to be with learning with CipherSchools even with 35
This is going to be with learning with CipherSchools even with 37
This is going to be with learning with CipherSchools even with 39
This is going to be with learning with CipherSchools even with 41
This is going to be with learning with CipherSchools even with 43
This is going to be with learning with CipherSchools even with 45
This is going to be with learning with CipherSchools even with 47
This is going to be with learning with CipherSchools even with 49
This is going to be with learning with CipherSchools even with 51
This is going to be with learning with CipherSchools even with 53
This is going to be with learning with CipherSchools even with 55
This is going to be with learning with CipherSchools even with 57
This is going to be with learning with CipherSchools even with 59
This is going to be with learning with CipherSchools even with 61
This is going to be with learning with CipherSchools even with 63
This is going to be with learning with CipherSchools even with 65
This is going to be with learning with CipherSchools even with 67
This is going to be with learning with CipherSchools even with 69
This is going to be with learning with CipherSchools even with 71
This is going to be with learning with CipherSchools even with 73
This is going to be with learning with CipherSchools even with 75
This is going to be with learning with CipherSchools even with 77
This is going to be with learning with CipherSchools even with 79
This is going to be with learning with CipherSchools even with 81
This is going to be with learning with CipherSchools even with 83
This is going to be with learning with CipherSchools even with 85
This is going to be with learning with CipherSchools even with 87
This is going to be with learning with CipherSchools even with 89
This is going to be with learning with CipherSchools even with 91
This is going to be with learning with CipherSchools even with 93
This is going to be with learning with CipherSchools even with 95
This is going to be with learning with CipherSchools even with 97
This is going to be with learning with CipherSchools even with 99
This is going to be with learning with CipherSchools even with 101
This is going to be with learning with CipherSchools even with 103
This is going to be with learning with CipherSchools even with 105
This is going to be with learning with CipherSchools even with 107
This is going to be with learning with CipherSchools even with 109
This is going to be with learning with CipherSchools even with 111
This is going to be with learning with CipherSchools even with 113
This is going to be with learning with CipherSchools even with 115
This is going to be with learning with CipherSchools even with 117
This is going to be with learning with CipherSchools even with 119
This is going to be with learning with CipherSchools even with 121
This is going to be with learning with CipherSchools even with 123
This is going to be with learning with CipherSchools even with 125
This is going to be with learning with CipherSchools even with 127
This is going to be with learning with CipherSchools even with 129
This is going to be with learning with CipherSchools even with 131
This is going to be with learning with CipherSchools even with 133
This is going to be with learning with CipherSchools even with 135
This is going to be with learning with CipherSchools even with 137
This is going to be with learning with CipherSchools even with 139
This is going to be with learning with CipherSchools even with 141
This is going to be with learning with CipherSchools even with 143
This is going to be with learning with CipherSchools even with 145
This is going to be with learning with CipherSchools even with 147
This is going to be with learning with CipherSchools even with 149
This is going to be with learning with CipherSchools even with 151
This is going to be with learning with CipherSchools even with 153
This is going to be with learning with CipherSchools even with 155
This is going to be with learning with CipherSchools even with 157
This is going to be with learning with CipherSchools even with 159
This is going to be with learning with CipherSchools even with 161
This is going to be with learning with CipherSchools even with 163
This is going to be with learning with CipherSchools even with 165
This is going to be with learning with CipherSchools even with 167
This is going to be with learning with CipherSchools even with 169
This is going to be with learning with CipherSchools even with 171
This is going to be with learning with CipherSchools even with 173
This is going to be with learning with CipherSchools even with 175
This is going to be with learning with CipherSchools even with 177
This is going to be with learning with CipherSchools even with 179
This is going to be with learning with CipherSchools even with 181
This is going to be with learning with CipherSchools even with 183
This is going to be with learning with CipherSchools even with 185
This is going to be with learning with CipherSchools even with 187
This is going to be with learning with CipherSchools even with 189
This is going to be with learning with CipherSchools even with 191
This is going to be with learning with CipherSchools even with 193
This is going to be with learning with CipherSchools even with 195
This is going to be with learning with CipherSchools even with 197
This is going to be with learning with CipherSchools even with 199
This is going to be with learning with CipherSchools even with 201
This is going to be with learning with CipherSchools even with 203
This is going to be with learning with CipherSchools even with 205
This is going to be with learning with CipherSchools even with 207
This is going to be with learning with CipherSchools even with 209
This is going to be with learning with CipherSchools even with 211
This is going to be with learning with CipherSchools even with 213
This is going to be with learning with CipherSchools even with 215
This is going to be with learning with CipherSchools even with 217
This is going to be with learning with CipherSchools even with 219
This is going to be with learning with CipherSchools even with 221
This is going to be with learning with CipherSchools even with 223
This is going to be with learning with CipherSchools even with 225
This is going to be with learning with CipherSchools even with 227
This is going to be with learning with CipherSchools even with 229
This is going to be with learning with CipherSchools even with 231
This is going to be with learning with CipherSchools even with 233
This is going to be with learning with CipherSchools even with 235
This is going to be with learning with CipherSchools even with 237
This is going to be with learning with CipherSchools even with 239
This is going to be with learning with CipherSchools even with 241
This is going to be with learning with CipherSchools even with 243
This is going to be with learning with CipherSchools even with 245
This is going to be with learning with CipherSchools even with 247
This is going to be with learning with CipherSchools even with 249
This is going to be with learning with CipherSchools even with 251
This is going to be with learning with CipherSchools even with 253
This is going to be with learning with CipherSchools even with 255
This is going to be with learning with CipherSchools even with 257
This is going to be with learning with CipherSchools even with 259
This is going to be with learning with CipherSchools even with 261
This is going to be with learning with CipherSchools even with 263
This is going to be with learning with CipherSchools even with 265
This is going to be with learning with CipherSchools even with 267
This is going to be with learning with CipherSchools even with 269
This is going to be with learning with CipherSchools even with 271
This is going to be with learning with CipherSchools even with 273
This is going to be with learning with CipherSchools even with 275
This is going to be with learning with CipherSchools even with 277
This is going to be with learning with CipherSchools even with 279
This is going to be with learning with CipherSchools even with 281
This is going to be with learning with CipherSchools even with 283
This is going to be with learning with CipherSchools even with 285
This is going to be with learning with CipherSchools even with 287
This is going to be with learning with CipherSchools even with 289
This is going to be with learning with CipherSchools even with 291
This is going to be with learning with CipherSchools even with 293
This is going to be with learning with CipherSchools even with 295
This is going to be with learning with CipherSchools even with 297
This is going to be with learning with CipherSchools even with 299
This is going to be with learning with CipherSchools even with 301
This is going to be with learning with CipherSchools even with 303
This is going to be with learning with CipherSchools even with 305
This is going to be with learning with CipherSchools even with 307
This is going to be with learning with CipherSchools even with 309
This is going to be with learning with CipherSchools even with 311
This is going to be with learning with CipherSchools even with 313
This is going to be with learning with CipherSchools even with 315
This is going to be with learning with CipherSchools even with 317
This is going to be with learning with CipherSchools even with 319
This is going to be with learning with CipherSchools even with 321
This is going to be with learning with CipherSchools even with 323
This is going to be with learning with CipherSchools even with 325
This is going to be with learning with CipherSchools even with 327
This is going to be with learning with CipherSchools even with 329
This is going to be with learning with CipherSchools even with 331
This is going to be with learning with CipherSchools even with 333
This is going to be with learning with CipherSchools even with 335
This is going to be with learning with CipherSchools even with 337
This is going to be with learning with CipherSchools even with 339
This is going to be with learning with CipherSchools even with 341
This is going to be with learning with CipherSchools even with 343
This is going to be with learning with CipherSchools even with 345
This is going to be with learning with CipherSchools even with 347
This is going to be with learning with CipherSchools even with 349
This is going to be with learning with CipherSchools even with 351
This is going to be with learning with CipherSchools even with 353
This is going to be with learning with CipherSchools even with 355
This is going to be with learning with CipherSchools even with 357
This is going to be with learning with CipherSchools even with 359
This is going to be with learning with CipherSchools even with 361
This is going to be with learning with CipherSchools even with 363
This is going to be with learning with CipherSchools even with 365
This is going to be with learning with CipherSchools even with 367
This is going to be with learning with CipherSchools even with 369
This is going to be with learning with CipherSchools even with 371
This is going to be with learning with CipherSchools even with 373
This is going to be with learning with CipherSchools even with 375
This is going to be with learning with CipherSchools even with 377
This is going to be with learning with CipherSchools even with 379
This is going to be with learning with CipherSchools even with 381
This is going to be with learning with CipherSchools even with 383
This is going to be with learning with CipherSchools even with 385
This is going to be with learning with CipherSchools even with 387
This is going to be with learning with CipherSchools even with 389
This is going to be with learning with CipherSchools even with 391
This is going to be with learning with CipherSchools even with 393
This is going to be with learning with CipherSchools even with 395
This is going to be with learning with CipherSchools even with 397
This is going to be with learning with CipherSchools even with 399
This is going to be with learning with CipherSchools even with 401
This is going to be with learning with CipherSchools even with 403
This is going to be with learning with CipherSchools even with 405
This is going to be with learning with CipherSchools even with 407
This is going to be with learning with CipherSchools even with 409
This is going to be with learning with CipherSchools even with 411
This is going to be with learning with CipherSchools even with 413
This is going to be with learning with CipherSchools even with 415
This is going to be with learning with CipherSchools even with 417
This is going to be with learning with CipherSchools even with 419
This is going to be with learning with CipherSchools even with 421
This is going to be with learning with CipherSchools even with 423
This is going to be with learning with CipherSchools even with 425
This is going to be with learning with CipherSchools even with 427
This is going to be with learning with CipherSchools even with 429
This is going to be with learning with CipherSchools even with 431
This is going to be with learning with CipherSchools even with 433
This is going to be with learning with CipherSchools even with 435
This is going to be with learning with CipherSchools even with 437
This is going to be with learning with CipherSchools even with 439
This is going to be with learning with CipherSchools even with 441
This is going to be with learning with CipherSchools even with 443
This is going to be with learning with CipherSchools even with 445
This is going to be with learning with CipherSchools even with 447
This is going to be with learning with CipherSchools even with 449
This is going to be with learning with CipherSchools even with 451
This is going to be with learning with CipherSchools even with 453
This is going to be with learning with CipherSchools even with 455
This is going to be with learning with CipherSchools even with 457
This is going to be with learning with CipherSchools even with 459
This is going to be with learning with CipherSchools even with 461
This is going to be with learning with CipherSchools even with 463
This is going to be with learning with CipherSchools even with 465
This is going to be with learning with CipherSchools even with 467
This is going to be with learning with CipherSchools even with 469
This is going to be with learning with CipherSchools even with 471
This is going to be with learning with CipherSchools even with 473
This is going to be with learning with CipherSchools even with 475
This is going to be with learning with CipherSchools even with 477
This is going to be with learning with CipherSchools even with 479
This is going to be with learning with CipherSchools even with 481
This is going to be with learning with CipherSchools even with 483
This is going to be with learning with CipherSchools even with 485
This is going to be with learning with CipherSchools even with 487
This is going to be with learning with CipherSchools even with 489
This is going to be with learning with CipherSchools even with 491
This is going to be with learning with CipherSchools even with 493
This is going to be with learning with CipherSchools even with 495
This is going to be with learning with CipherSchools even with 497
This is going to be with learning with CipherSchools even with 499
This is going to be with learning with CipherSchools even with 501
This is going to be with learning with CipherSchools even with 503
This is going to be with learning with CipherSchools even with 505
This is going to be with learning with CipherSchools even with 507
This is going to be with learning with CipherSchools even with 509
This is going to be with learning with CipherSchools even with 511
This is going to be with learning with CipherSchools even with 513
This is going to be with learning with CipherSchools even with 515
This is going to be with learning with CipherSchools even with 517
This is going to be with learning with CipherSchools even with 519
This is going to be with learning with CipherSchools even with 521
This is going to be with learning with CipherSchools even with 523
This is going to be with learning with CipherSchools even with 525
This is going to be with learning with CipherSchools even with 527
This is going to be with learning with CipherSchools even with 529
This is going to be with learning with CipherSchools even with 531
This is going to be with learning with CipherSchools even with 533
This is going to be with learning with CipherSchools even with 535
This is going to be with learning with CipherSchools even with 537
This is going to be with learning with CipherSchools even with 539
This is going to be with learning with CipherSchools even with 541
This is going to be with learning with CipherSchools even with 543
This is going to be with learning with CipherSchools even with 545
This is going to be with learning with CipherSchools even with 547
This is going to be with learning with CipherSchools even with 549
This is going to be with learning with CipherSchools even with 551
This is going to be with learning with CipherSchools even with 553
This is going to be with learning with CipherSchools even with 555
This is going to be with learning with CipherSchools even with 557
This is going to be with learning with CipherSchools even with 559
This is going to be with learning with CipherSchools even with 561
This is going to be with learning with CipherSchools even with 563
This is going to be with learning with CipherSchools even with 565
This is going to be with learning with CipherSchools even with 567
This is going to be with learning with CipherSchools even with 569
This is going to be with learning with CipherSchools even with 571
This is going to be with learning with CipherSchools even with 573
This is going to be with learning with CipherSchools even with 575
This is going to be with learning with CipherSchools even with 577
This is going to be with learning with CipherSchools even with 579
This is going to be with learning with CipherSchools even with 581
This is going to be with learning with CipherSchools even with 583
This is going to be with learning with CipherSchools even with 585
This is going to be with learning with CipherSchools even with 587
This is going to be with learning with CipherSchools even with 589
This is going to be with learning with CipherSchools even with 591
This is going to be with learning with CipherSchools even with 593
This is going to be with learning with CipherSchools even with 595
This is going to be with learning with CipherSchools even with 597
This is going to be with learning with CipherSchools even with 599
This is going to be with learning with CipherSchools even with 601
This is going to be with learning with CipherSchools even with 603
This is going to be with learning with CipherSchools even with 605
This is going to be with learning with CipherSchools even with 607
This is going to be with learning with CipherSchools even with 609
This is going to be with learning with CipherSchools even with 611
This is going to be with learning with CipherSchools even with 613
This is going to be with learning with CipherSchools even with 615
This is going to be with learning with CipherSchools even with 617
This is going to be with learning with CipherSchools even with 619
This is going to be with learning with CipherSchools even with 621
This is going to be with learning with CipherSchools even with 623
This is going to be with learning with CipherSchools even with 625
This is going to be with learning with CipherSchools even with 627
This is going to be with learning with CipherSchools even with 629
This is going to be with learning with CipherSchools even with 631
This is going to be with learning with CipherSchools even with 633
This is going to be with learning with CipherSchools even with 635
This is going to be with learning with CipherSchools even with 637
This is going to be with learning with CipherSchools even with 639
This is going to be with learning with CipherSchools even with 641
This is going to be with learning with CipherSchools even with 643
This is going to be with learning with CipherSchools even with 645
This is going to be with learning with CipherSchools even with 647
This is going to be with learning with CipherSchools even with 649
This is going to be with learning with CipherSchools even with 651
This is going to be with learning with CipherSchools even with 653
This is going to be with learning with CipherSchools even with 655
This is going to be with learning with CipherSchools even with 657
This is going to be with learning with CipherSchools even with 659
This is going to be with learning with CipherSchools even with 661
This is going to be with learning with CipherSchools even with 663
This is going to be with learning with CipherSchools even with 665
This is going to be with learning with CipherSchools even with 667
This is going to be with learning with CipherSchools even with 669
This is going to be with learning with CipherSchools even with 671
This is going to be with learning with CipherSchools even with 673
This is going to be with learning with CipherSchools even with 675
This is going to be with learning with CipherSchools even with 677
This is going to be with learning with CipherSchools even with 679
This is going to be with learning with CipherSchools even with 681
This is going to be with learning with CipherSchools even with 683
This is going to be with learning with CipherSchools even with 685
This is going to be with learning with CipherSchools even with 687
This is going to be with learning with CipherSchools even with 689
This is going to be with learning with CipherSchools even with 691
This is going to be with learning with CipherSchools even with 693
This is going to be with learning with CipherSchools even with 695
This is going to be with learning with CipherSchools even with 697
This is going to be with learning with CipherSchools even with 699
This is going to be with learning with CipherSchools even with 701
This is going to be with learning with CipherSchools even with 703
This is going to be with learning with CipherSchools even with 705
This is going to be with learning with CipherSchools even with 707
This is going to be with learning with CipherSchools even with 709
This is going to be with learning with CipherSchools even with 711
This is going to be with learning with CipherSchools even with 713
This is going to be with learning with CipherSchools even with 715
This is going to be with learning with CipherSchools even with 717
This is going to be with learning with CipherSchools even with 719
This is going to be with learning with CipherSchools even with 721
This is going to be with learning with CipherSchools even with 723
This is going to be with learning with CipherSchools even with 725
This is going to be with learning with CipherSchools even with 727
This is going to be with learning with CipherSchools even with 729
This is going to be with learning with CipherSchools even with 731
This is going to be with learning with CipherSchools even with 733
This is going to be with learning with CipherSchools even with 735
This is going to be with learning with CipherSchools even with 737
This is going to be with learning with CipherSchools even with 739
This is going to be with learning with CipherSchools even with 741
This is going to be with learning with CipherSchools even with 743
This is going to be with learning with CipherSchools even with 745
This is going to be with learning with CipherSchools even with 747
This is going to be with learning with CipherSchools even with 749
This is going to be with learning with CipherSchools even with 751
This is going to be with learning with CipherSchools even with 753
This is going to be with learning with CipherSchools even with 755
This is going to be with learning with CipherSchools even with 757
This is going to be with learning with CipherSchools even with 759
This is going to be with learning with CipherSchools even with 761
This is going to be with learning with CipherSchools even with 763
This is going to be with learning with CipherSchools even with 765
This is going to be with learning with CipherSchools even with 767
This is going to be with learning with CipherSchools even with 769
This is going to be with learning with CipherSchools even with 771
This is going to be with learning with CipherSchools even with 773
This is going to be with learning with CipherSchools even with 775
This is going to be with learning with CipherSchools even with 777
This is going to be with learning with CipherSchools even with 779
This is going to be with learning with CipherSchools even with 781
This is going to be with learning with CipherSchools even with 783
This is going to be with learning with CipherSchools even with 785
This is going to be with learning with CipherSchools even with 787
This is going to be with learning with CipherSchools even with 789
This is going to be with learning with CipherSchools even with 791
This is going to be with learning with CipherSchools even with 793
This is going to be with learning with CipherSchools even with 795
This is going to be with learning with CipherSchools even with 797
This is going to be with learning with CipherSchools even with 799
This is going to be with learning with CipherSchools even with 801
This is going to be with learning with CipherSchools even with 803
This is going to be with learning with CipherSchools even with 805
This is going to be with learning with CipherSchools even with 807
This is going to be with learning with CipherSchools even with 809
This is going to be with learning with CipherSchools even with 811
This is going to be with learning with CipherSchools even with 813
This is going to be with learning with CipherSchools even with 815
This is going to be with learning with CipherSchools even with 817
This is going to be with learning with CipherSchools even with 819
This is going to be with learning with CipherSchools even with 821
This is going to be with learning with CipherSchools even with 823
This is going to be with learning with CipherSchools even with 825
This is going to be with learning with CipherSchools even with 827
This is going to be with learning with CipherSchools even with 829
This is going to be with learning with CipherSchools even with 831
This is going to be with learning with CipherSchools even with 833
This is going to be with learning with CipherSchools even with 835
This is going to be with learning with CipherSchools even with 837
This is going to be with learning with CipherSchools even with 839
This is going to be with learning with CipherSchools even with 841
This is going to be with learning with CipherSchools even with 843
This is going to be with learning with CipherSchools even with 845
This is going to be with learning with CipherSchools even with 847
This is going to be with learning with CipherSchools even with 849
This is going to be with learning with CipherSchools even with 851
This is going to be with learning with CipherSchools even with 853
This is going to be with learning with CipherSchools even with 855
This is going to be with learning with CipherSchools even with 857
This is going to be with learning with CipherSchools even with 859
This is going to be with learning with CipherSchools even with 861
This is going to be with learning with CipherSchools even with 863
This is going to be with learning with CipherSchools even with 865
This is going to be with learning with CipherSchools even with 867
This is going to be with learning with CipherSchools even with 869
This is going to be with learning with CipherSchools even with 871
This is going to be with learning with CipherSchools even with 873
This is going to be with learning with CipherSchools even with 875
This is going to be with learning with CipherSchools even with 877
This is going to be with learning with CipherSchools even with 879
This is going to be with learning with CipherSchools even with 881
This is going to be with learning with CipherSchools even with 883
This is going to be with learning with CipherSchools even with 885
This is going to be with learning with CipherSchools even with 887
This is going to be with learning with CipherSchools even with 889
This is going to be with learning with CipherSchools even with 891
This is going to be with learning with CipherSchools even with 893
This is going to be with learning with CipherSchools even with 895
This is going to be with learning with CipherSchools even with 897
This is going to be with learning with CipherSchools even with 899
This is going to be with learning with CipherSchools even with 901
This is going to be with learning with CipherSchools even with 903
This is going to be with learning with CipherSchools even with 905
This is going to be with learning with CipherSchools even with 907
This is going to be with learning with CipherSchools even with 909
This is going to be with learning with CipherSchools even with 911
This is going to be with learning with CipherSchools even with 913
This is going to be with learning with CipherSchools even with 915
This is going to be with learning with CipherSchools even with 917
This is going to be with learning with CipherSchools even with 919
This is going to be with learning with CipherSchools even with 921
This is going to be with learning with CipherSchools even with 923
This is going to be with learning with CipherSchools even with 925
This is going to be with learning with CipherSchools even with 927
This is going to be with learning with CipherSchools even with 929
This is going to be with learning with CipherSchools even with 931
This is going to be with learning with CipherSchools even with 933
This is going to be with learning with CipherSchools even with 935
This is going to be with learning with CipherSchools even with 937
This is going to be with learning with CipherSchools even with 939
This is going to be with learning with CipherSchools even with 941
This is going to be with learning with CipherSchools even with 943
This is going to be with learning with CipherSchools even with 945
This is going to be with learning with CipherSchools even with 947
This is going to be with learning with CipherSchools even with 949
This is going to be with learning with CipherSchools even with 951
This is going to be with learning with CipherSchools even with 953
This is going to be with learning with CipherSchools even with 955
This is going to be with learning with CipherSchools even with 957
This is going to be with learning with CipherSchools even with 959
This is going to be with learning with CipherSchools even with 961
This is going to be with learning with CipherSchools even with 963
This is going to be with learning with CipherSchools even with 965
This is going to be with learning with CipherSchools even with 967
This is going to be with learning with CipherSchools even with 969
This is going to be with learning with CipherSchools even with 971
This is going to be with learning with CipherSchools even with 973
This is going to be with learning with CipherSchools even with 975
This is going to be with learning with CipherSchools even with 977
This is going to be with learning with CipherSchools even with 979
This is going to be with learning with CipherSchools even with 981
This is going to be with learning with CipherSchools even with 983
This is going to be with learning with CipherSchools even with 985
This is going to be with learning with CipherSchools even with 987
This is going to be with learning with CipherSchools even with 989
This is going to be with learning with CipherSchools even with 991
This is going to be with learning with CipherSchools even with 993
This is going to be with learning with CipherSchools even with 995
This is going to be with learning with CipherSchools even with 997
This is going to be with learning with CipherSchools even with 999

print(type(name))
print("***")

for c in name:
   print(c)
   print(type(c))
     

for i in range(5):
  print(i)
     
0
1
2
3
4

a = range(5)
print(a)
     
range(0, 5)

for i in range(5):
  print(i)
  if i ==3:
    break
     
0
1
2
3

for i in range(5):
  print(i)
  if i ==3:
    break
     
0
1
2
3

for i in range(5):
  print(i)
  del i
     
0
1
2
3
4

for i in range(5):
  print(i)
  i = 100
  print(i)

     
0
100
1
100
2
100
3
100
4
100

if True:
  """hfkguhrgouk"""
  print("rest of the code")
     
rest of the code

for i in range(5):
  print(i)
else:
  print("something")
     
0
1
2
3
4
something

for i in range(5):
  print(i)
  if i ==3:
    break
else:
  print("something")
     
0
1
2
3
